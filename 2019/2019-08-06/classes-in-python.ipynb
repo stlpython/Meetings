{
 "cells": [
  {
   "cell_type": "markdown",
   "metadata": {
    "slideshow": {
     "slide_type": "slide"
    }
   },
   "source": [
    "<h1 style=\"text-align: center\">Taking the dive into classes</h1>\n",
    "\n",
    "<p style=\"text-align: center\">STL Python - 8/6/2019</p>"
   ]
  },
  {
   "cell_type": "markdown",
   "metadata": {
    "slideshow": {
     "slide_type": "slide"
    }
   },
   "source": [
    "<p style=\"text-align: center\">\"But...my scripts are just fine, I don't need classes.\"</p>\n",
    "\n",
    "<p style=\"text-align: right\">- Some guy</p>"
   ]
  },
  {
   "cell_type": "markdown",
   "metadata": {
    "slideshow": {
     "slide_type": "fragment"
    }
   },
   "source": [
    "<p style=\"text-align: center\">...maybe so, but take a look...</p>"
   ]
  },
  {
   "cell_type": "markdown",
   "metadata": {
    "slideshow": {
     "slide_type": "slide"
    }
   },
   "source": [
    "<h2 style=\"text-align: center\">Why use classes?</h2>\n",
    "\n",
    "From a high-level...\n",
    "\n",
    "- Helps to you keep your code organized into digestible pieces\n",
    "- Reduce your cognitive load vs maintaining \n",
    "- Write more expressive code\n",
    "\n"
   ]
  },
  {
   "cell_type": "markdown",
   "metadata": {
    "slideshow": {
     "slide_type": "slide"
    }
   },
   "source": [
    "<h2 style=\"text-align: center\">What are classes in Python?</h2>\n",
    "\n",
    "Classes provide some level of:\n",
    "\n",
    "- Encapsulation\n",
    "  - Keep your state private...kinda\n",
    "  - Don't expose more than is needed\n",
    "- Abstraction\n",
    "  - Make the interface into your class simple\n",
    "  - Implementation details hidden\n",
    "  - Reduce your cognitive load\n",
    "- Inheritance\n",
    "  - Reuse, extend"
   ]
  },
  {
   "cell_type": "code",
   "execution_count": 10,
   "metadata": {},
   "outputs": [],
   "source": [
    "class User(object):\n",
    "    def __init__(self, username, first_name, last_name, password):\n",
    "        self._username = username\n",
    "        self._first_name = first_name\n",
    "        self._last_name = last_name\n",
    "        self._password = password\n",
    "        self._is_admin = False\n",
    "    \n",
    "    def change_password(self, new_password):\n",
    "        self._password = new_password\n",
    "        return self\n",
    "    \n",
    "    def get_name(self):\n",
    "        return f\"{'Admin' if self._is_admin else 'User'}: {self._first_name} {self._last_name}\""
   ]
  },
  {
   "cell_type": "code",
   "execution_count": 13,
   "metadata": {},
   "outputs": [
    {
     "data": {
      "text/plain": [
       "'User: Joe Meilinger'"
      ]
     },
     "execution_count": 13,
     "metadata": {},
     "output_type": "execute_result"
    }
   ],
   "source": [
    "u = User(username='Joe', first_name='Joe', last_name='Meilinger', password='1234')\n",
    "\n",
    "u.change_password('1234566').get_name()"
   ]
  },
  {
   "cell_type": "code",
   "execution_count": 6,
   "metadata": {},
   "outputs": [
    {
     "data": {
      "text/plain": [
       "['__class__',\n",
       " '__delattr__',\n",
       " '__dict__',\n",
       " '__dir__',\n",
       " '__doc__',\n",
       " '__eq__',\n",
       " '__format__',\n",
       " '__ge__',\n",
       " '__getattribute__',\n",
       " '__gt__',\n",
       " '__hash__',\n",
       " '__init__',\n",
       " '__init_subclass__',\n",
       " '__le__',\n",
       " '__lt__',\n",
       " '__module__',\n",
       " '__ne__',\n",
       " '__new__',\n",
       " '__reduce__',\n",
       " '__reduce_ex__',\n",
       " '__repr__',\n",
       " '__setattr__',\n",
       " '__sizeof__',\n",
       " '__str__',\n",
       " '__subclasshook__',\n",
       " '__weakref__',\n",
       " '_first_name',\n",
       " '_is_admin',\n",
       " '_last_name',\n",
       " '_password',\n",
       " '_username',\n",
       " 'change_password',\n",
       " 'get_name']"
      ]
     },
     "execution_count": 6,
     "metadata": {},
     "output_type": "execute_result"
    }
   ],
   "source": [
    "dir(u)"
   ]
  },
  {
   "cell_type": "code",
   "execution_count": 9,
   "metadata": {},
   "outputs": [
    {
     "data": {
      "text/plain": [
       "__main__.User"
      ]
     },
     "execution_count": 9,
     "metadata": {},
     "output_type": "execute_result"
    }
   ],
   "source": [
    "u.__class__"
   ]
  },
  {
   "cell_type": "code",
   "execution_count": 13,
   "metadata": {},
   "outputs": [
    {
     "data": {
      "text/plain": [
       "'User: Joe Meilinger'"
      ]
     },
     "execution_count": 13,
     "metadata": {},
     "output_type": "execute_result"
    }
   ],
   "source": [
    "usr = User('joe', 'Joe', 'Meilinger', '12345')\n",
    "usr.get_name()"
   ]
  },
  {
   "cell_type": "code",
   "execution_count": 27,
   "metadata": {},
   "outputs": [],
   "source": [
    "class Admin(User):\n",
    "    def __init__(self, username, first_name, last_name, password, age):\n",
    "        super().__init__(username, first_name, last_name, password)\n",
    "        self._is_admin = True\n",
    "        self._age = age\n",
    "        self.__check_password(self._password)\n",
    "                \n",
    "    def __check_password(self, password):\n",
    "        if password and len(password) >= 8:\n",
    "            return True\n",
    "        else:\n",
    "            raise Exception(\"Password must be at least 8 characters\")\n",
    "    \n",
    "    def change_password(self, new_password):\n",
    "        self.__check_password(new_password)\n",
    "        super().change_password(new_password)\n",
    "        "
   ]
  },
  {
   "cell_type": "code",
   "execution_count": 28,
   "metadata": {},
   "outputs": [
    {
     "data": {
      "text/plain": [
       "'Admin: Admin User'"
      ]
     },
     "execution_count": 28,
     "metadata": {},
     "output_type": "execute_result"
    }
   ],
   "source": [
    "\n",
    "adm = Admin('admin', 'Admin', 'User', '12345678', 39)\n",
    "adm.get_name()"
   ]
  },
  {
   "cell_type": "code",
   "execution_count": 29,
   "metadata": {},
   "outputs": [
    {
     "data": {
      "text/plain": [
       "['_Admin__check_password',\n",
       " '__class__',\n",
       " '__delattr__',\n",
       " '__dict__',\n",
       " '__dir__',\n",
       " '__doc__',\n",
       " '__eq__',\n",
       " '__format__',\n",
       " '__ge__',\n",
       " '__getattribute__',\n",
       " '__gt__',\n",
       " '__hash__',\n",
       " '__init__',\n",
       " '__init_subclass__',\n",
       " '__le__',\n",
       " '__lt__',\n",
       " '__module__',\n",
       " '__ne__',\n",
       " '__new__',\n",
       " '__reduce__',\n",
       " '__reduce_ex__',\n",
       " '__repr__',\n",
       " '__setattr__',\n",
       " '__sizeof__',\n",
       " '__str__',\n",
       " '__subclasshook__',\n",
       " '__weakref__',\n",
       " '_age',\n",
       " '_first_name',\n",
       " '_is_admin',\n",
       " '_last_name',\n",
       " '_password',\n",
       " '_username',\n",
       " 'change_password',\n",
       " 'get_name']"
      ]
     },
     "execution_count": 29,
     "metadata": {},
     "output_type": "execute_result"
    }
   ],
   "source": [
    "# Lets checkout the properties\n",
    "\n",
    "dir(adm)"
   ]
  },
  {
   "cell_type": "markdown",
   "metadata": {
    "slideshow": {
     "slide_type": "slide"
    }
   },
   "source": [
    "Wait...what's the diff between double and single underscore prefixed member/method names? -- see PEP8\n",
    "\n",
    "Nothing is really private in Python classes:\n",
    "\n",
    "- Double underscore prefixes invoke Python's name mangling in addition to removing the definition from the class doc -- not part of the \"public\" interface\n",
    "- Single underscore prefixes remove the definition from the class doc (and autocomplete) -- not part of the \"public\" interface"
   ]
  },
  {
   "cell_type": "code",
   "execution_count": 30,
   "metadata": {
    "slideshow": {
     "slide_type": "slide"
    }
   },
   "outputs": [
    {
     "name": "stdout",
     "output_type": "stream",
     "text": [
      "Help on Admin in module __main__ object:\n",
      "\n",
      "class Admin(User)\n",
      " |  Method resolution order:\n",
      " |      Admin\n",
      " |      User\n",
      " |      builtins.object\n",
      " |  \n",
      " |  Methods defined here:\n",
      " |  \n",
      " |  __init__(self, username, first_name, last_name, password, age)\n",
      " |      Initialize self.  See help(type(self)) for accurate signature.\n",
      " |  \n",
      " |  change_password(self, new_password)\n",
      " |  \n",
      " |  ----------------------------------------------------------------------\n",
      " |  Methods inherited from User:\n",
      " |  \n",
      " |  get_name(self)\n",
      " |  \n",
      " |  ----------------------------------------------------------------------\n",
      " |  Data descriptors inherited from User:\n",
      " |  \n",
      " |  __dict__\n",
      " |      dictionary for instance variables (if defined)\n",
      " |  \n",
      " |  __weakref__\n",
      " |      list of weak references to the object (if defined)\n",
      "\n"
     ]
    }
   ],
   "source": [
    "help(adm)"
   ]
  },
  {
   "cell_type": "code",
   "execution_count": 73,
   "metadata": {},
   "outputs": [],
   "source": [
    "# Write some docstrings!\n",
    "\n",
    "class Admin(User):\n",
    "    \"\"\"Represents an admin user that requires a stronger password.\"\"\"\n",
    "    \n",
    "    def __init__(self, username, first_name, last_name, password):\n",
    "        super().__init__(username, first_name, last_name, password)\n",
    "        self._is_admin = True\n",
    "        self.__check_password(self._password)\n",
    "                \n",
    "    def __check_password(self, password):\n",
    "        if password and len(password) >= 8:\n",
    "            return True\n",
    "        else:\n",
    "            raise Exception(\"Password must be at least 8 characters\")\n",
    "    \n",
    "    def change_password(self, new_password):\n",
    "        \"\"\"Changes the admin's password, throws Exception if password is not strong enough.\"\"\"\n",
    "        \n",
    "        self.__check_password(new_password)\n",
    "        self._password = new_password\n",
    "        \n",
    "    def get_name(self):\n",
    "        \"\"\"Display admin's real name as well as username and indicate role.\"\"\"\n",
    "\n",
    "        return f\"{super().get_name()} (username: {self._username})\"\n",
    "    \n",
    "    def __str__(self):\n",
    "        return self.get_name()\n",
    "    \n",
    "    def __repr__(self):\n",
    "        return str(self)"
   ]
  },
  {
   "cell_type": "code",
   "execution_count": 75,
   "metadata": {},
   "outputs": [
    {
     "data": {
      "text/plain": [
       "'Admin: Admin User (username: admin)'"
      ]
     },
     "execution_count": 75,
     "metadata": {},
     "output_type": "execute_result"
    }
   ],
   "source": [
    "adm = Admin('admin', 'Admin', 'User', '12345678')\n",
    "\n",
    "f\"{adm}\""
   ]
  },
  {
   "cell_type": "code",
   "execution_count": 19,
   "metadata": {},
   "outputs": [
    {
     "name": "stdout",
     "output_type": "stream",
     "text": [
      "Help on class Admin in module __main__:\n",
      "\n",
      "class Admin(User)\n",
      " |  Represents an admin user that requires a stronger password.\n",
      " |  \n",
      " |  Method resolution order:\n",
      " |      Admin\n",
      " |      User\n",
      " |      builtins.object\n",
      " |  \n",
      " |  Methods defined here:\n",
      " |  \n",
      " |  __init__(self, username, first_name, last_name, password)\n",
      " |      Initialize self.  See help(type(self)) for accurate signature.\n",
      " |  \n",
      " |  change_password(self, new_password)\n",
      " |      Changes the admin's password, throws Exception if password is not strong enough.\n",
      " |  \n",
      " |  get_name(self)\n",
      " |      Display admin's real name as well as username and indicate role.\n",
      " |  \n",
      " |  ----------------------------------------------------------------------\n",
      " |  Data descriptors inherited from User:\n",
      " |  \n",
      " |  __dict__\n",
      " |      dictionary for instance variables (if defined)\n",
      " |  \n",
      " |  __weakref__\n",
      " |      list of weak references to the object (if defined)\n",
      "\n"
     ]
    }
   ],
   "source": [
    "help(Admin)"
   ]
  },
  {
   "cell_type": "code",
   "execution_count": 34,
   "metadata": {},
   "outputs": [],
   "source": [
    "# But what about singletons, class methods, static methods?!?!\n",
    "\n",
    "# Some built-in decorators shim the language to support singletons and class methods\n",
    "\n",
    "# Static method example with class-level state\n",
    "class StaticCounter:\n",
    "    count = 0\n",
    "    \n",
    "    @staticmethod\n",
    "    def increment():\n",
    "        StaticCounter.count += 1\n",
    "        return StaticCounter.count"
   ]
  },
  {
   "cell_type": "code",
   "execution_count": 40,
   "metadata": {},
   "outputs": [
    {
     "data": {
      "text/plain": [
       "4"
      ]
     },
     "execution_count": 40,
     "metadata": {},
     "output_type": "execute_result"
    }
   ],
   "source": [
    "c = StaticCounter()\n"
   ]
  },
  {
   "cell_type": "code",
   "execution_count": 42,
   "metadata": {},
   "outputs": [
    {
     "data": {
      "text/plain": [
       "5"
      ]
     },
     "execution_count": 42,
     "metadata": {},
     "output_type": "execute_result"
    }
   ],
   "source": [
    "c.count"
   ]
  },
  {
   "cell_type": "code",
   "execution_count": 41,
   "metadata": {},
   "outputs": [
    {
     "data": {
      "text/plain": [
       "5"
      ]
     },
     "execution_count": 41,
     "metadata": {},
     "output_type": "execute_result"
    }
   ],
   "source": [
    "StaticCounter.increment()"
   ]
  },
  {
   "cell_type": "code",
   "execution_count": 44,
   "metadata": {},
   "outputs": [],
   "source": [
    "# Singleton\n",
    "class CounterAsSingleton:\n",
    "    _inst = None\n",
    "    \n",
    "    class __ThereIsOnlyOneOfMe:\n",
    "        def __init__(self):\n",
    "            self.counter = 0\n",
    "            \n",
    "        def increment(self):\n",
    "            self.counter += 1\n",
    "    \n",
    "    def __init__(self):\n",
    "        if not CounterAsSingleton._inst:\n",
    "            CounterAsSingleton._inst = CounterAsSingleton.__ThereIsOnlyOneOfMe()\n",
    "\n",
    "    def increment(self):\n",
    "        if not self._inst:\n",
    "            self._inst = __ThereIsOnlyOneOfMe()\n",
    "        self._inst.counter += 1\n",
    "        return self._inst.counter\n",
    "    \n",
    "    def __getattr__(self, name):\n",
    "        return getattr(self._inst, name)"
   ]
  },
  {
   "cell_type": "code",
   "execution_count": 45,
   "metadata": {},
   "outputs": [],
   "source": [
    "a = CounterAsSingleton()"
   ]
  },
  {
   "cell_type": "code",
   "execution_count": 48,
   "metadata": {},
   "outputs": [
    {
     "data": {
      "text/plain": [
       "3"
      ]
     },
     "execution_count": 48,
     "metadata": {},
     "output_type": "execute_result"
    }
   ],
   "source": [
    "a.increment()"
   ]
  },
  {
   "cell_type": "code",
   "execution_count": 50,
   "metadata": {},
   "outputs": [
    {
     "data": {
      "text/plain": [
       "3"
      ]
     },
     "execution_count": 50,
     "metadata": {},
     "output_type": "execute_result"
    }
   ],
   "source": [
    "b = CounterAsSingleton()\n",
    "b.counter"
   ]
  },
  {
   "cell_type": "code",
   "execution_count": 52,
   "metadata": {},
   "outputs": [],
   "source": [
    "# Class methods\n",
    "\n",
    "class StringSerializableCounter:\n",
    "    def __init__(self, start=0):\n",
    "        self.counter = start\n",
    "    \n",
    "    def value(self):\n",
    "        return self.counter\n",
    "    \n",
    "    def increment(self):\n",
    "        self.counter += 1\n",
    "        return self.counter\n",
    "    \n",
    "    @classmethod\n",
    "    def from_string(cls, start):\n",
    "        return cls(start=int(start))"
   ]
  },
  {
   "cell_type": "code",
   "execution_count": 53,
   "metadata": {},
   "outputs": [],
   "source": [
    "sc = StringSerializableCounter.from_string(\"7\")"
   ]
  },
  {
   "cell_type": "code",
   "execution_count": 54,
   "metadata": {},
   "outputs": [
    {
     "data": {
      "text/plain": [
       "7"
      ]
     },
     "execution_count": 54,
     "metadata": {},
     "output_type": "execute_result"
    }
   ],
   "source": [
    "sc.value()"
   ]
  },
  {
   "cell_type": "code",
   "execution_count": 40,
   "metadata": {},
   "outputs": [
    {
     "data": {
      "text/plain": [
       "int"
      ]
     },
     "execution_count": 40,
     "metadata": {},
     "output_type": "execute_result"
    }
   ],
   "source": [
    "type(sc.value())"
   ]
  },
  {
   "cell_type": "code",
   "execution_count": 55,
   "metadata": {},
   "outputs": [],
   "source": [
    "# Python supports multiple inheritance -- enter mixins\n",
    "# REMEMBER: your base class should be the right-most inherited class, moving left for mixins\n",
    "# BUT method resolution order is left-to-right\n",
    "\n",
    "# Mixins are NOT meant to stand on their own, they will need to have knowledge of the structure\n",
    "# of the inheriting class\n",
    "\n",
    "class LoggingMixin:\n",
    "    def increment(self):\n",
    "        print('Incrementing...')\n",
    "        return super().increment()\n",
    "\n",
    "        \n",
    "class MyLoggingCounter(LoggingMixin, StringSerializableCounter):\n",
    "    pass"
   ]
  },
  {
   "cell_type": "code",
   "execution_count": 56,
   "metadata": {},
   "outputs": [],
   "source": [
    "counter = MyLoggingCounter()"
   ]
  },
  {
   "cell_type": "code",
   "execution_count": 59,
   "metadata": {},
   "outputs": [
    {
     "data": {
      "text/plain": [
       "[__main__.MyLoggingCounter,\n",
       " __main__.LoggingMixin,\n",
       " __main__.StringSerializableCounter,\n",
       " object]"
      ]
     },
     "execution_count": 59,
     "metadata": {},
     "output_type": "execute_result"
    }
   ],
   "source": [
    "MyLoggingCounter.mro()"
   ]
  },
  {
   "cell_type": "code",
   "execution_count": 60,
   "metadata": {},
   "outputs": [
    {
     "data": {
      "text/plain": [
       "[__main__.D, __main__.C, __main__.A, __main__.B, __main__.Z, object]"
      ]
     },
     "execution_count": 60,
     "metadata": {},
     "output_type": "execute_result"
    }
   ],
   "source": [
    "class Z:\n",
    "    pass\n",
    "\n",
    "class A:\n",
    "    pass\n",
    "\n",
    "class B:\n",
    "    pass\n",
    "\n",
    "class C(A, B):\n",
    "    pass\n",
    "\n",
    "class D(C, Z):\n",
    "    pass\n",
    "\n",
    "C.mro()\n",
    "D.mro()"
   ]
  },
  {
   "cell_type": "code",
   "execution_count": 63,
   "metadata": {},
   "outputs": [
    {
     "ename": "TypeError",
     "evalue": "Cannot create a consistent method resolution\norder (MRO) for bases A, D",
     "output_type": "error",
     "traceback": [
      "\u001b[0;31m---------------------------------------------------------------------------\u001b[0m",
      "\u001b[0;31mTypeError\u001b[0m                                 Traceback (most recent call last)",
      "\u001b[0;32m<ipython-input-63-4c137c58554a>\u001b[0m in \u001b[0;36m<module>\u001b[0;34m\u001b[0m\n\u001b[0;32m----> 1\u001b[0;31m \u001b[0;32mclass\u001b[0m \u001b[0mE\u001b[0m\u001b[0;34m(\u001b[0m\u001b[0mA\u001b[0m\u001b[0;34m,\u001b[0m \u001b[0mD\u001b[0m\u001b[0;34m)\u001b[0m\u001b[0;34m:\u001b[0m\u001b[0;34m\u001b[0m\u001b[0m\n\u001b[0m\u001b[1;32m      2\u001b[0m     \u001b[0;32mpass\u001b[0m\u001b[0;34m\u001b[0m\u001b[0m\n\u001b[1;32m      3\u001b[0m \u001b[0;34m\u001b[0m\u001b[0m\n\u001b[1;32m      4\u001b[0m \u001b[0mE\u001b[0m\u001b[0;34m.\u001b[0m\u001b[0mmro\u001b[0m\u001b[0;34m(\u001b[0m\u001b[0;34m)\u001b[0m\u001b[0;34m\u001b[0m\u001b[0m\n",
      "\u001b[0;31mTypeError\u001b[0m: Cannot create a consistent method resolution\norder (MRO) for bases A, D"
     ]
    }
   ],
   "source": [
    "class E(A, D):\n",
    "    pass\n",
    "\n",
    "E.mro()"
   ]
  },
  {
   "cell_type": "code",
   "execution_count": 69,
   "metadata": {},
   "outputs": [
    {
     "name": "stdout",
     "output_type": "stream",
     "text": [
      "1\n"
     ]
    },
    {
     "data": {
      "text/plain": [
       "'2019-08-06 20:14:37.117541'"
      ]
     },
     "execution_count": 69,
     "metadata": {},
     "output_type": "execute_result"
    }
   ],
   "source": [
    "a = 1\n",
    "\n",
    "# Old-school\n",
    "print(\"{}\".format(a))\n",
    "\n",
    "import datetime\n",
    "\n",
    "# New 3.4+ (?) string formatting option\n",
    "f\"{datetime.datetime.now()}\""
   ]
  },
  {
   "cell_type": "markdown",
   "metadata": {},
   "source": [
    "## What the group wants to learn about\n",
    "\n",
    "- learn about async and await\n",
    "- working w/ data in numpy + pandas\n",
    "- django and integrating ajax\n",
    "- machine learning (kaggle sample data)\n",
    "- data normalization and/or regular expressions\n",
    "- APIs and database interaction (write and interacting w/ APIs) + - working w/ modern front-end javascript frameworks\n",
    "- sentiment analysis on mandarin + emojis?!?!"
   ]
  }
 ],
 "metadata": {
  "celltoolbar": "Slideshow",
  "kernelspec": {
   "display_name": "Python 3",
   "language": "python",
   "name": "python3"
  },
  "language_info": {
   "codemirror_mode": {
    "name": "ipython",
    "version": 3
   },
   "file_extension": ".py",
   "mimetype": "text/x-python",
   "name": "python",
   "nbconvert_exporter": "python",
   "pygments_lexer": "ipython3",
   "version": "3.6.4"
  }
 },
 "nbformat": 4,
 "nbformat_minor": 2
}
